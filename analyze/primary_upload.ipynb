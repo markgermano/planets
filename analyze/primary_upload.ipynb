{
  "nbformat": 4,
  "nbformat_minor": 0,
  "metadata": {
    "colab": {
      "name": "Copy of Copy of Untitled1.ipynb",
      "provenance": [],
      "collapsed_sections": [],
      "authorship_tag": "ABX9TyP00gZRK0cswKZPM991UO6K",
      "include_colab_link": true
    },
    "kernelspec": {
      "name": "python3",
      "display_name": "Python 3"
    },
    "language_info": {
      "name": "python"
    }
  },
  "cells": [
    {
      "cell_type": "markdown",
      "metadata": {
        "id": "view-in-github",
        "colab_type": "text"
      },
      "source": [
        "<a href=\"https://colab.research.google.com/github/markgermano/planets/blob/main/analyze/primary_upload.ipynb\" target=\"_parent\"><img src=\"https://colab.research.google.com/assets/colab-badge.svg\" alt=\"Open In Colab\"/></a>"
      ]
    },
    {
      "cell_type": "code",
      "source": [
        "from sklearn.model_selection import train_test_split\n",
        "from sklearn.linear_model import LogisticRegression\n",
        "from sklearn import metrics\n",
        "from sklearn.metrics import roc_auc_score\n",
        "from sklearn.metrics import recall_score"
      ],
      "metadata": {
        "id": "8f243jUq78kx"
      },
      "execution_count": null,
      "outputs": []
    },
    {
      "cell_type": "code",
      "source": [
        "from pandas.core.arrays.sparse import array\n",
        "\n",
        "# Normalized lactate load all patients\n",
        "\n",
        "# Copy dataset and drop na's\n",
        "data = df_final.copy()\n",
        "data = data.dropna()\n",
        "\n",
        "#define the predictor variables and the response variable\n",
        "X = np.array(data['norm_lac_load']).reshape(-1,1)\n",
        "y = np.array(data['died_in_28_days'])\n",
        "\n",
        "clf = LogisticRegression()\n",
        "\n",
        "clf.fit(X, y.ravel())\n",
        "\n",
        "# evaluate on test set with best params\n",
        "y_prob = clf.predict_proba(X)[:, 1]\n",
        "auroc_1 = roc_auc_score(y, y_prob)\n",
        "print(f'AUROC: {auroc_1}')"
      ],
      "metadata": {
        "colab": {
          "base_uri": "https://localhost:8080/"
        },
        "id": "JDyfv_jl78hs",
        "outputId": "12fcf907-abb3-4aef-efa7-fa60f7bb1168"
      },
      "execution_count": null,
      "outputs": [
        {
          "output_type": "stream",
          "name": "stdout",
          "text": [
            "AUROC: 0.7070383636648697\n"
          ]
        }
      ]
    },
    {
      "cell_type": "code",
      "source": [
        "# Maximum lactate all patients\n",
        "\n",
        "#define the predictor variables and the response variable\n",
        "X = np.array(data['max_lac']).reshape(-1,1)\n",
        "y = np.array(data['died_in_28_days'])\n",
        "\n",
        "clf = LogisticRegression()\n",
        "\n",
        "clf.fit(X, y.ravel())\n",
        "\n",
        "# evaluate on test set with best params\n",
        "y_prob = clf.predict_proba(X)[:, 1]\n",
        "auroc_2 = roc_auc_score(y, y_prob)\n",
        "print(f'AUROC: {auroc_2}')"
      ],
      "metadata": {
        "colab": {
          "base_uri": "https://localhost:8080/"
        },
        "id": "px859gXsKUng",
        "outputId": "66833dac-0983-41df-be11-4fb2d610a474"
      },
      "execution_count": null,
      "outputs": [
        {
          "output_type": "stream",
          "name": "stdout",
          "text": [
            "AUROC: 0.6869278917471688\n"
          ]
        }
      ]
    },
    {
      "cell_type": "code",
      "source": [
        "# Mean lactate all patients\n",
        "\n",
        "#define the predictor variables and the response variable\n",
        "X = np.array(data['mean_lac']).reshape(-1,1)\n",
        "y = np.array(data['died_in_28_days'])\n",
        "\n",
        "clf = LogisticRegression()\n",
        "\n",
        "clf.fit(X, y.ravel())\n",
        "\n",
        "# evaluate on test set with best params\n",
        "y_prob = clf.predict_proba(X)[:, 1]\n",
        "auroc_3 = roc_auc_score(y, y_prob)\n",
        "print(f'AUROC: {auroc_3}')"
      ],
      "metadata": {
        "colab": {
          "base_uri": "https://localhost:8080/"
        },
        "id": "-9R1G1WOKUkU",
        "outputId": "c845b3c3-e3f9-4fc2-8208-5eb62f7f29f1"
      },
      "execution_count": null,
      "outputs": [
        {
          "output_type": "stream",
          "name": "stdout",
          "text": [
            "AUROC: 0.6970424239500544\n"
          ]
        }
      ]
    },
    {
      "cell_type": "code",
      "source": [
        "# Normalized lactate load sepsis patients\n",
        "\n",
        "# Copy dataset and drop na's\n",
        "data = df_final.loc[df_final['sepsis']==1]\n",
        "data = data.dropna()\n",
        "\n",
        "#define the predictor variables and the response variable\n",
        "X = np.array(data['norm_lac_load']).reshape(-1,1)\n",
        "y = np.array(data['died_in_28_days'])\n",
        "\n",
        "clf = LogisticRegression()\n",
        "\n",
        "clf.fit(X, y.ravel())\n",
        "\n",
        "# evaluate on test set with best params\n",
        "y_prob = clf.predict_proba(X)[:, 1]\n",
        "auroc_4 = roc_auc_score(y, y_prob)\n",
        "print(f'AUROC: {auroc_4}')"
      ],
      "metadata": {
        "colab": {
          "base_uri": "https://localhost:8080/"
        },
        "id": "ENpLf3xpKUg3",
        "outputId": "19489d53-10a5-4e64-ae62-864dc046d627"
      },
      "execution_count": null,
      "outputs": [
        {
          "output_type": "stream",
          "name": "stdout",
          "text": [
            "AUROC: 0.7146382943421271\n"
          ]
        }
      ]
    },
    {
      "cell_type": "code",
      "source": [
        "# Maximum lactate sepsis patients\n",
        "\n",
        "#define the predictor variables and the response variable\n",
        "X = np.array(data['max_lac']).reshape(-1,1)\n",
        "y = np.array(data['died_in_28_days'])\n",
        "\n",
        "clf = LogisticRegression()\n",
        "\n",
        "clf.fit(X, y.ravel())\n",
        "\n",
        "# evaluate on test set with best params\n",
        "y_prob = clf.predict_proba(X)[:, 1]\n",
        "auroc_5 = roc_auc_score(y, y_prob)\n",
        "print(f'AUROC: {auroc_5}')"
      ],
      "metadata": {
        "colab": {
          "base_uri": "https://localhost:8080/"
        },
        "id": "kRYa0l5ISvTO",
        "outputId": "056b5d5e-bcdd-4a32-8702-b2cbf3088c3b"
      },
      "execution_count": null,
      "outputs": [
        {
          "output_type": "stream",
          "name": "stdout",
          "text": [
            "AUROC: 0.699622531939605\n"
          ]
        }
      ]
    },
    {
      "cell_type": "code",
      "source": [
        "# Mean lactate sepsis patients\n",
        "\n",
        "#define the predictor variables and the response variable\n",
        "X = np.array(data['mean_lac']).reshape(-1,1)\n",
        "y = np.array(data['died_in_28_days'])\n",
        "\n",
        "clf = LogisticRegression()\n",
        "\n",
        "clf.fit(X, y.ravel())\n",
        "\n",
        "# evaluate on test set with best params\n",
        "y_prob = clf.predict_proba(X)[:, 1]\n",
        "auroc_6 = roc_auc_score(y, y_prob)\n",
        "print(f'AUROC: {auroc_6}')"
      ],
      "metadata": {
        "colab": {
          "base_uri": "https://localhost:8080/"
        },
        "id": "cQzJh31hSvQA",
        "outputId": "4c2fbc8e-bdb9-4f51-bdde-d7204e9d3c9a"
      },
      "execution_count": null,
      "outputs": [
        {
          "output_type": "stream",
          "name": "stdout",
          "text": [
            "AUROC: 0.7054919528787125\n"
          ]
        }
      ]
    },
    {
      "cell_type": "code",
      "source": [
        "# Normalized lactate load non-sepsis patients\n",
        "\n",
        "# Copy dataset and drop na's\n",
        "data = df_final.loc[df_final['sepsis']==0]\n",
        "data = data.dropna()\n",
        "\n",
        "#define the predictor variables and the response variable\n",
        "X = np.array(data['norm_lac_load']).reshape(-1,1)\n",
        "y = np.array(data['died_in_28_days'])\n",
        "\n",
        "clf = LogisticRegression()\n",
        "\n",
        "clf.fit(X, y.ravel())\n",
        "\n",
        "# evaluate on test set with best params\n",
        "y_prob = clf.predict_proba(X)[:, 1]\n",
        "auroc_7 = roc_auc_score(y, y_prob)\n",
        "print(f'AUROC: {auroc_7}')"
      ],
      "metadata": {
        "colab": {
          "base_uri": "https://localhost:8080/"
        },
        "id": "NA4SpJP5SvMd",
        "outputId": "92a1de60-128b-4b95-bfea-423602801223"
      },
      "execution_count": null,
      "outputs": [
        {
          "output_type": "stream",
          "name": "stdout",
          "text": [
            "AUROC: 0.7000638406537283\n"
          ]
        }
      ]
    },
    {
      "cell_type": "code",
      "source": [
        "# Maximum lactate non-sepsis patients\n",
        "\n",
        "#define the predictor variables and the response variable\n",
        "X = np.array(data['max_lac']).reshape(-1,1)\n",
        "y = np.array(data['died_in_28_days'])\n",
        "\n",
        "clf = LogisticRegression()\n",
        "\n",
        "clf.fit(X, y.ravel())\n",
        "\n",
        "# evaluate on test set with best params\n",
        "y_prob = clf.predict_proba(X)[:, 1]\n",
        "auroc_8 = roc_auc_score(y, y_prob)\n",
        "print(f'AUROC: {auroc_8}')"
      ],
      "metadata": {
        "colab": {
          "base_uri": "https://localhost:8080/"
        },
        "id": "l53mrq3pSvI5",
        "outputId": "1f880b4a-0850-40c4-a7b3-29abaa164286"
      },
      "execution_count": null,
      "outputs": [
        {
          "output_type": "stream",
          "name": "stdout",
          "text": [
            "AUROC: 0.6758810010214503\n"
          ]
        }
      ]
    },
    {
      "cell_type": "code",
      "source": [
        "# Mean lactate non-sepsis patients\n",
        "\n",
        "#define the predictor variables and the response variable\n",
        "X = np.array(data['mean_lac']).reshape(-1,1)\n",
        "y = np.array(data['died_in_28_days'])\n",
        "\n",
        "clf = LogisticRegression()\n",
        "\n",
        "clf.fit(X, y.ravel())\n",
        "\n",
        "# evaluate on test set with best params\n",
        "y_prob = clf.predict_proba(X)[:, 1]\n",
        "auroc_9 = roc_auc_score(y, y_prob)\n",
        "print(f'AUROC: {auroc_9}')"
      ],
      "metadata": {
        "colab": {
          "base_uri": "https://localhost:8080/"
        },
        "id": "HrP4W-z9T_Bx",
        "outputId": "cf5babe6-94e0-4772-8369-8a18c2a4254b"
      },
      "execution_count": null,
      "outputs": [
        {
          "output_type": "stream",
          "name": "stdout",
          "text": [
            "AUROC: 0.6883171603677221\n"
          ]
        }
      ]
    },
    {
      "cell_type": "code",
      "source": [
        "pip install tabulate\n",
        "from tabulate import tabulate"
      ],
      "metadata": {
        "colab": {
          "base_uri": "https://localhost:8080/"
        },
        "id": "q0Gf8BSOl251",
        "outputId": "a07dbb48-a84d-4bcb-a89b-981d1e0812bd"
      },
      "execution_count": null,
      "outputs": [
        {
          "output_type": "stream",
          "name": "stdout",
          "text": [
            "Looking in indexes: https://pypi.org/simple, https://us-python.pkg.dev/colab-wheels/public/simple/\n",
            "Requirement already satisfied: tabulate in /usr/local/lib/python3.7/dist-packages (0.8.10)\n"
          ]
        }
      ]
    },
    {
      "cell_type": "code",
      "source": [
        "table = [[' ','All Patients', 'Sepsis Patients', 'Non-Sepsis Patients'], ['Normalized Lactate Load', auroc_1, auroc_4, auroc_7], \n",
        "         ['Maximum Lactate', auroc_2, auroc_5, auroc_8], ['Mean Lactate', auroc_3, auroc_6, auroc_9]]\n",
        "\n",
        "print(tabulate(table, tablefmt='fancy_grid'))"
      ],
      "metadata": {
        "colab": {
          "base_uri": "https://localhost:8080/"
        },
        "id": "MN15BKARnQdy",
        "outputId": "7e1d8c27-b641-4075-ec8e-90931bd6134b"
      },
      "execution_count": null,
      "outputs": [
        {
          "output_type": "stream",
          "name": "stdout",
          "text": [
            "╒═════════════════════════╤════════════════════╤════════════════════╤═════════════════════╕\n",
            "│                         │ All Patients       │ Sepsis Patients    │ Non-Sepsis Patients │\n",
            "├─────────────────────────┼────────────────────┼────────────────────┼─────────────────────┤\n",
            "│ Normalized Lactate Load │ 0.7070383636648697 │ 0.7146382943421271 │ 0.7000638406537283  │\n",
            "├─────────────────────────┼────────────────────┼────────────────────┼─────────────────────┤\n",
            "│ Maximum Lactate         │ 0.6869278917471688 │ 0.699622531939605  │ 0.6758810010214503  │\n",
            "├─────────────────────────┼────────────────────┼────────────────────┼─────────────────────┤\n",
            "│ Mean Lactate            │ 0.6970424239500544 │ 0.7054919528787125 │ 0.6883171603677221  │\n",
            "╘═════════════════════════╧════════════════════╧════════════════════╧═════════════════════╛\n"
          ]
        }
      ]
    },
    {
      "cell_type": "code",
      "source": [
        ""
      ],
      "metadata": {
        "id": "MVyJnTDOnRaL"
      },
      "execution_count": null,
      "outputs": []
    },
    {
      "cell_type": "code",
      "source": [
        ""
      ],
      "metadata": {
        "id": "YbGtIiZlnRWU"
      },
      "execution_count": null,
      "outputs": []
    },
    {
      "cell_type": "code",
      "source": [
        ""
      ],
      "metadata": {
        "id": "Stm2JTinnQ22"
      },
      "execution_count": null,
      "outputs": []
    }
  ]
}